{
 "cells": [
  {
   "cell_type": "markdown",
   "metadata": {},
   "source": [
    "# **Real-Time Object Detection using OpenCV and DNN**\n",
    "\n",
    "\n",
    "### Author : Asma Dammak\n",
    "\n",
    "This project demonstrates a simple implementation of real-time object detection using OpenCV's DNN module. It utilizes a pre-trained SSD MobileNet v3 model for object detection from live webcam feed. The detections are optimized by applying Non-Maximum Suppression (NMS) to filter out overlapping bounding boxes.\n",
    "\n",
    "### **Features**\n",
    "Real-time Object Detection: Detects objects in real-time using your webcam.\n",
    "SSD MobileNet v3: A fast and lightweight object detection model.\n",
    "Non-Maximum Suppression (NMS): Eliminates redundant bounding boxes to ensure accurate detections.\n",
    "COCO Dataset Classes: Detects objects from the COCO dataset (80 classes).\n",
    "\n",
    "### **Requirements**\n",
    "Python 3.x\n",
    "\n",
    "OpenCV 4.x\n",
    "\n",
    "NumPy"
   ]
  },
  {
   "cell_type": "code",
   "execution_count": 1,
   "metadata": {},
   "outputs": [],
   "source": [
    "#import libraries \n",
    "import cv2\n",
    "import numpy as np\n",
    "\n",
    "# Confidence threshold for object detection\n",
    "thres = 0.5  \n",
    "# Non-Maximum Suppression threshold\n",
    "nms_threshold = 0.3  \n",
    "\n",
    "# Open the webcam\n",
    "cap = cv2.VideoCapture(0)\n"
   ]
  },
  {
   "cell_type": "code",
   "execution_count": 2,
   "metadata": {},
   "outputs": [
    {
     "name": "stdout",
     "output_type": "stream",
     "text": [
      "['person', 'bicycle', 'car', 'motorcycle', 'airplane', 'bus', 'train', 'truck', 'boat', 'traffic light', 'fire hydrant', 'street sign', 'stop sign', 'parking meter', 'bench', 'bird', 'cat', 'dog', 'horse', 'sheep', 'cow', 'elephant', 'bear', 'zebra', 'giraffe', 'hat', 'backpack', 'umbrella', 'shoe', 'eye glasses', 'handbag', 'tie', 'suitcase', 'frisbee', 'skis', 'snowboard', 'sports ball', 'kite', 'baseball bat', 'baseball glove', 'skateboard', 'surfboard', 'tennis racket', 'bottle', 'plate', 'wine glass', 'cup', 'fork', 'knife', 'spoon', 'bowl', 'banana', 'apple', 'sandwich', 'orange', 'broccoli', 'carrot', 'hot dog', 'pizza', 'donut', 'cake', 'chair', 'couch', 'potted plant', 'bed', 'mirror', 'dining table', 'window', 'desk', 'toilet', 'door', 'tv', 'laptop', 'mouse', 'remote', 'keyboard', 'cell phone', 'microwave', 'oven', 'toaster', 'sink', 'refrigerator', 'blender', 'book', 'clock', 'vase', 'scissors', 'teddy bear', 'hair drier', 'toothbrush', 'hair brush']\n"
     ]
    }
   ],
   "source": [
    "# Load class names\n",
    "classFile = 'coco.names'\n",
    "with open(classFile, 'rt') as f:\n",
    "    classNames = f.read().strip().split('\\n')\n",
    "\n",
    "print(classNames)"
   ]
  },
  {
   "cell_type": "code",
   "execution_count": 3,
   "metadata": {},
   "outputs": [
    {
     "data": {
      "text/plain": [
       "< cv2.dnn.Model 00000151A27B2130>"
      ]
     },
     "execution_count": 3,
     "metadata": {},
     "output_type": "execute_result"
    }
   ],
   "source": [
    "# Load the pre-trained model\n",
    "configPath = 'ssd_mobilenet_v3_large_coco_2020_01_14.pbtxt'\n",
    "weightsPath = 'frozen_inference_graph.pb'\n",
    "net = cv2.dnn_DetectionModel(weightsPath, configPath)\n",
    "net.setInputSize(320, 320) \n",
    "net.setInputScale(1.0 / 127.5)  \n",
    "net.setInputMean((127.5, 127.5, 127.5)) \n",
    "net.setInputSwapRB(True) "
   ]
  },
  {
   "cell_type": "code",
   "execution_count": 4,
   "metadata": {},
   "outputs": [
    {
     "ename": "KeyboardInterrupt",
     "evalue": "",
     "output_type": "error",
     "traceback": [
      "\u001b[1;31m---------------------------------------------------------------------------\u001b[0m",
      "\u001b[1;31mKeyboardInterrupt\u001b[0m                         Traceback (most recent call last)",
      "Cell \u001b[1;32mIn[4], line 11\u001b[0m\n\u001b[0;32m      8\u001b[0m     \u001b[38;5;28;01mbreak\u001b[39;00m  \n\u001b[0;32m     10\u001b[0m \u001b[38;5;66;03m# Perform object detection\u001b[39;00m\n\u001b[1;32m---> 11\u001b[0m classIds, confs, bbox \u001b[38;5;241m=\u001b[39m \u001b[43mnet\u001b[49m\u001b[38;5;241;43m.\u001b[39;49m\u001b[43mdetect\u001b[49m\u001b[43m(\u001b[49m\u001b[43mimg\u001b[49m\u001b[43m,\u001b[49m\u001b[43m \u001b[49m\u001b[43mconfThreshold\u001b[49m\u001b[38;5;241;43m=\u001b[39;49m\u001b[43mthres\u001b[49m\u001b[43m)\u001b[49m\n\u001b[0;32m     13\u001b[0m \u001b[38;5;28;01mif\u001b[39;00m classIds \u001b[38;5;129;01mis\u001b[39;00m \u001b[38;5;129;01mnot\u001b[39;00m \u001b[38;5;28;01mNone\u001b[39;00m:\n\u001b[0;32m     14\u001b[0m     \u001b[38;5;66;03m# Convert results to lists\u001b[39;00m\n\u001b[0;32m     15\u001b[0m     bbox \u001b[38;5;241m=\u001b[39m \u001b[38;5;28mlist\u001b[39m(bbox)\n",
      "\u001b[1;31mKeyboardInterrupt\u001b[0m: "
     ]
    }
   ],
   "source": [
    "# Open the webcam\n",
    "cap = cv2.VideoCapture(0)\n",
    "\n",
    "while True:\n",
    "    success, img = cap.read()  \n",
    "    if not success:\n",
    "        print(\"Failed to capture image\")\n",
    "        break  \n",
    "\n",
    "    # Perform object detection\n",
    "    classIds, confs, bbox = net.detect(img, confThreshold=thres)\n",
    "\n",
    "    if classIds is not None:\n",
    "        # Convert results to lists\n",
    "        bbox = list(bbox)\n",
    "        confs = list(np.array(confs).flatten())\n",
    "        classIds = list(np.array(classIds).flatten())\n",
    "\n",
    "        # Apply Non-Maximum Suppression to eliminate overlapping boxes\n",
    "        indices = cv2.dnn.NMSBoxes(bbox, confs, thres, nms_threshold)\n",
    "\n",
    "        # Check if indices is not empty\n",
    "        if len(indices) > 0:\n",
    "            for i in indices.flatten(): \n",
    "                box = bbox[i]\n",
    "                x, y, w, h = box[0], box[1], box[2], box[3]\n",
    "                label = classNames[classIds[i] - 1].upper()\n",
    "                confidence = confs[i]\n",
    "                cv2.rectangle(img, (x, y), (x + w, y + h), color=(0, 255, 0), thickness=2)\n",
    "                cv2.putText(img, f'{label} {confidence:.2f}', (x + 10, y + 30),\n",
    "                            cv2.FONT_HERSHEY_COMPLEX, 1, (0, 255, 0), 2)\n",
    "\n",
    "    # Display the image with detections\n",
    "    cv2.imshow(\"Output\", img)\n",
    "\n",
    "    # Break the loop on 'q' key press\n",
    "    if cv2.waitKey(1) & 0xFF == ord('q'):\n",
    "        break"
   ]
  },
  {
   "cell_type": "code",
   "execution_count": 5,
   "metadata": {},
   "outputs": [],
   "source": [
    "# Release the capture and close all windows\n",
    "cap.release()\n",
    "cv2.destroyAllWindows()"
   ]
  }
 ],
 "metadata": {
  "kernelspec": {
   "display_name": "Python 3",
   "language": "python",
   "name": "python3"
  },
  "language_info": {
   "codemirror_mode": {
    "name": "ipython",
    "version": 3
   },
   "file_extension": ".py",
   "mimetype": "text/x-python",
   "name": "python",
   "nbconvert_exporter": "python",
   "pygments_lexer": "ipython3",
   "version": "3.12.3"
  }
 },
 "nbformat": 4,
 "nbformat_minor": 2
}
